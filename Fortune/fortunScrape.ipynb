{
 "cells": [
  {
   "cell_type": "code",
   "execution_count": 8,
   "metadata": {},
   "outputs": [
    {
     "name": "stdout",
     "output_type": "stream",
     "text": [
      "[['てんびん座', 'みずがめ座', 'ふたご座', 'いて座', 'おひつじ座', 'しし座', 'おとめ座', 'やぎ座', 'さそり座', 'うお座', 'かに座', 'おうし座'], ['人を引きつける日', 'スピーディーに行動できる日', '自分を客観視しながら会話を楽しもう', '流れに身を任せること', '意欲的になれる日', 'やりたいことは準備を整えて', '家の中でうれしいことが', '気持ちを上手に切り替えたい', '優柔不断になってしまいそう', 'ひとつひとつの課題を確実に', 'リラックスが幸運へとつながる', 'ストレス発散の日']]\n",
      "['ふたご座', '水瓶座', '天秤座', '牡羊座', 'いて座', '牡牛座', '蠍座', '獅子座', '山羊座', '蟹座', 'うお座', '乙女座']\n"
     ]
    }
   ],
   "source": [
    "\n",
    "import json\n",
    "import requests\n",
    "import urllib.request, urllib.error\n",
    "from bs4 import BeautifulSoup\n",
    "import random\n",
    "\n",
    "def ScrapFromYahoo():\n",
    "    URL = \"https://fortune.yahoo.co.jp/12astro/ranking.html\"\n",
    "    \n",
    "    r = urllib.request.urlopen(URL)\n",
    "\n",
    "    soup = BeautifulSoup(r, \"html.parser\")\n",
    "    topDiv = soup.find(\"div\", id=\"rank\")#,id=\"colBoxTopStories\"\n",
    "\n",
    "    top = topDiv.find(\"table\")\n",
    "\n",
    "\n",
    "    #ランキング取得\n",
    "    seiza = top.find_all(\"p\",class_=\"seiza\")\n",
    "    ranking= []\n",
    "    for i,seiz in enumerate(seiza):\n",
    "        ranking.append(seiz.find(\"img\").get(\"alt\"))\n",
    "    \n",
    "\n",
    "    #アドバイス取得\n",
    "    advice_html = top.find_all(\"p\", class_=\"ft01\")\n",
    "    advices = []\n",
    "    for i, advice in enumerate(advice_html):\n",
    "        advices.append(advice.a.text)\n",
    "    \n",
    "    result = []\n",
    "\n",
    "    result.append(ranking)\n",
    "    result.append(advices)\n",
    "\n",
    "    # return titles, links\n",
    "    return result\n",
    "\n",
    "def ScrapFromNagasaki():\n",
    "    URL = \"https://www.nbc-nagasaki.co.jp/horoscope/\"\n",
    "    \n",
    "    r = urllib.request.urlopen(URL)\n",
    "\n",
    "    soup = BeautifulSoup(r, \"html.parser\")\n",
    "    topDiv = soup.find(\"div\", class_=\"ranking\")#,id=\"colBoxTopStories\"\n",
    "\n",
    "    #ランキング取得\n",
    "    seizaDiv = topDiv.find_all(\"div\",class_=\"rank\")\n",
    "    ranking= []\n",
    "    for i,seiz in enumerate(seizaDiv):\n",
    "        #星座のみ取得\n",
    "        ranking.append(((seiz.p.text).split())[1] )\n",
    "    \n",
    "\n",
    "    # #アドバイス取得\n",
    "    # advice_html = top.find_all(\"p\", class_=\"ft01\")\n",
    "    # advices = []\n",
    "    # for i, advice in enumerate(advice_html):\n",
    "    #     advices.append(advice.a.text)\n",
    "    \n",
    "    # result = []\n",
    "\n",
    "    # result.append(ranking)\n",
    "    # result.append(advices)\n",
    "\n",
    "    # return titles, links\n",
    "    return ranking\n",
    "\n",
    "# for i,yahooFortune in enumerate(yahooFortunes[0]):\n",
    "#     print( \"第{}位: {} \\n  今日の一言:{}\".format(i+1 ,yahooFortunes[0][i],yahooFortunes[1][i]))\n",
    "\n",
    "\n",
    "yahooFortunes = ScrapFromYahoo()\n",
    "print(yahooFortunes)\n",
    "a3 = ScrapFromNagasaki()\n",
    "print(a3)\n"
   ]
  }
 ],
 "metadata": {
  "interpreter": {
   "hash": "ff70e3a6c19d3280ad8eb247b299bf91c7f935bf65264bc432230778840086cd"
  },
  "kernelspec": {
   "display_name": "Python 3.8.8 64-bit ('base': conda)",
   "language": "python",
   "name": "python3"
  },
  "language_info": {
   "codemirror_mode": {
    "name": "ipython",
    "version": 3
   },
   "file_extension": ".py",
   "mimetype": "text/x-python",
   "name": "python",
   "nbconvert_exporter": "python",
   "pygments_lexer": "ipython3",
   "version": "3.8.8"
  },
  "orig_nbformat": 4
 },
 "nbformat": 4,
 "nbformat_minor": 2
}
