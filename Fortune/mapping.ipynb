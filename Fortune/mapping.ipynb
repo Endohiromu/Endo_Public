{
 "cells": [
  {
   "cell_type": "code",
   "execution_count": 35,
   "metadata": {},
   "outputs": [
    {
     "name": "stdout",
     "output_type": "stream",
     "text": [
      "牡牛座\n"
     ]
    }
   ],
   "source": [
    "class Seiza :\n",
    "    seizaList = ['牡牛座', '山羊座', 'うお座', '乙女座', 'ふたご座', '天秤座', '獅子座', '水瓶座', '蠍座', '蟹座', 'いて座', '牡羊座']\n",
    "    ushi = [\"おうし座\",\"牡牛座\",\"牡うし座\",\"お牛座\",\"おうしざ\",]\n",
    "    yaghi = [\"やぎ座\",\"山羊座\",\"やぎざ\"]\n",
    "    uoh = [\"うお座\",\"魚座\",\"うおざ\"] \n",
    "    otome = [\"おとめ座\",\"乙女座\",\"おとめざ\"] \n",
    "    twin = [\"ふたご座\",\"双子座\",\"ふたござ\"]\n",
    "    tenbin = [\"てんびん座\",\"天秤座\",\"てんびんざ\"]\n",
    "    rion = [\"しし座\",\"獅子座\",\"ししざ\"]\n",
    "    mizugame = [\"みずがめ座\",\"水瓶座\",\"みずがめざ\"]\n",
    "    sasori = [\"さそり座\",\"蠍座\",\"さそりざ\"]\n",
    "    kani  = [\"かに座\",\"蟹座\",\"かにざ\"]\n",
    "    ite = [\"いて座\",\"射手座\",\"いてざ\"]\n",
    "    ohitsuzi = [\"おひつじ座\",\"牡羊座\",\"おひつじざ\"]    \n",
    "\n",
    "    seizaChekc = [ushi,yaghi,uoh,otome,twin,tenbin,rion,mizugame,sasori,kani,ite,ohitsuzi]\n",
    "\n",
    "    def whichSeiza( self, target ):\n",
    "        result = \"\"\n",
    "        for i,seiza in enumerate(self.seizaList):\n",
    "            if target in self.seizaChekc[i]:\n",
    "                result = self.seizaList[i]\n",
    "        return  result\n",
    "\n",
    "\n",
    "seizaChecker = Seiza()\n",
    "aa = seizaChecker.whichSeiza(\"おうし座\")\n",
    "print(aa)"
   ]
  }
 ],
 "metadata": {
  "interpreter": {
   "hash": "ff70e3a6c19d3280ad8eb247b299bf91c7f935bf65264bc432230778840086cd"
  },
  "kernelspec": {
   "display_name": "Python 3.8.8 64-bit ('base': conda)",
   "language": "python",
   "name": "python3"
  },
  "language_info": {
   "codemirror_mode": {
    "name": "ipython",
    "version": 3
   },
   "file_extension": ".py",
   "mimetype": "text/x-python",
   "name": "python",
   "nbconvert_exporter": "python",
   "pygments_lexer": "ipython3",
   "version": "3.8.8"
  },
  "orig_nbformat": 4
 },
 "nbformat": 4,
 "nbformat_minor": 2
}
